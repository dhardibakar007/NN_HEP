{
 "cells": [
  {
   "cell_type": "code",
   "execution_count": 12,
   "id": "5484d69d-4c53-48ba-bf3c-fe98a1c69505",
   "metadata": {
    "collapsed": true,
    "jupyter": {
     "outputs_hidden": true
    },
    "scrolled": true
   },
   "outputs": [
    {
     "name": "stdout",
     "output_type": "stream",
     "text": [
      "/usr/bin/pip:6: DeprecationWarning: pkg_resources is deprecated as an API. See https://setuptools.pypa.io/en/latest/pkg_resources.html\n",
      "  from pkg_resources import load_entry_point\n",
      "Requirement already satisfied: uproot3 in /usr/local/lib/python3.8/dist-packages (3.14.4)\n",
      "Requirement already satisfied: numpy>=1.13.1 in /home/prabir/.local/lib/python3.8/site-packages (from uproot3) (1.24.3)\n",
      "Requirement already satisfied: awkward0 in /usr/local/lib/python3.8/dist-packages (from uproot3) (0.15.5)\n",
      "Requirement already satisfied: uproot3-methods in /usr/local/lib/python3.8/dist-packages (from uproot3) (0.10.1)\n",
      "Requirement already satisfied: cachetools in /home/prabir/.local/lib/python3.8/site-packages (from uproot3) (5.3.1)\n"
     ]
    }
   ],
   "source": [
    "!pip install uproot3\n",
    "!pip install uproot"
   ]
  },
  {
   "cell_type": "code",
   "execution_count": 13,
   "id": "e089077f-b5d2-44db-ba6c-42e473b2c14f",
   "metadata": {
    "collapsed": true,
    "jupyter": {
     "outputs_hidden": true
    },
    "scrolled": true
   },
   "outputs": [
    {
     "name": "stdout",
     "output_type": "stream",
     "text": [
      "--2023-09-20 15:38:18--  https://zenodo.org/record/3901869/files/ntuple_4mu_bkg.root?download=1\n",
      "Resolving zenodo.org (zenodo.org)... 188.185.124.72\n",
      "Connecting to zenodo.org (zenodo.org)|188.185.124.72|:443... connected.\n",
      "HTTP request sent, awaiting response... 200 OK\n",
      "Length: 8867265 (8.5M) [application/octet-stream]\n",
      "Saving to: ‘data/ntuple_4mu_bkg.root’\n",
      "\n",
      "data/ntuple_4mu_bkg 100%[===================>]   8.46M   115KB/s    in 51s     \n",
      "\n",
      "2023-09-20 15:39:18 (170 KB/s) - ‘data/ntuple_4mu_bkg.root’ saved [8867265/8867265]\n",
      "\n",
      "--2023-09-20 15:39:18--  https://zenodo.org/record/3901869/files/ntuple_4mu_VV.root?download=1\n",
      "Resolving zenodo.org (zenodo.org)... 188.185.124.72\n",
      "Connecting to zenodo.org (zenodo.org)|188.185.124.72|:443... connected.\n",
      "HTTP request sent, awaiting response... 200 OK\n",
      "Length: 4505518 (4.3M) [application/octet-stream]\n",
      "Saving to: ‘data/ntuple_4mu_VV.root’\n",
      "\n",
      "data/ntuple_4mu_VV. 100%[===================>]   4.30M  92.5KB/s    in 32s     \n",
      "\n",
      "2023-09-20 15:39:52 (137 KB/s) - ‘data/ntuple_4mu_VV.root’ saved [4505518/4505518]\n",
      "\n"
     ]
    }
   ],
   "source": [
    "!mkdir -p data\n",
    "!wget -O data/ntuple_4mu_bkg.root \"https://zenodo.org/record/3901869/files/ntuple_4mu_bkg.root?download=1\"\n",
    "!wget -O data/ntuple_4mu_VV.root \"https://zenodo.org/record/3901869/files/ntuple_4mu_VV.root?download=1\""
   ]
  },
  {
   "cell_type": "code",
   "execution_count": 17,
   "id": "2bdeeba5-4814-4df9-b010-c4e057660220",
   "metadata": {},
   "outputs": [
    {
     "name": "stdout",
     "output_type": "stream",
     "text": [
      "name                 | typename                 | interpretation                \n",
      "---------------------+--------------------------+-------------------------------\n",
      "f_run                | int32_t                  | AsDtype('>i4')\n",
      "f_lumi               | int32_t                  | AsDtype('>i4')\n",
      "f_event              | int32_t                  | AsDtype('>i4')\n",
      "f_weight             | float                    | AsDtype('>f4')\n",
      "f_int_weight         | float                    | AsDtype('>f4')\n",
      "f_pu_weight          | float                    | AsDtype('>f4')\n",
      "f_eff_weight         | float                    | AsDtype('>f4')\n",
      "f_lept1_pt           | float                    | AsDtype('>f4')\n",
      "f_lept1_eta          | float                    | AsDtype('>f4')\n",
      "f_lept1_phi          | float                    | AsDtype('>f4')\n",
      "f_lept1_charge       | float                    | AsDtype('>f4')\n",
      "f_lept1_pfx          | float                    | AsDtype('>f4')\n",
      "f_lept1_sip          | float                    | AsDtype('>f4')\n",
      "f_lept2_pt           | float                    | AsDtype('>f4')\n",
      "f_lept2_eta          | float                    | AsDtype('>f4')\n",
      "f_lept2_phi          | float                    | AsDtype('>f4')\n",
      "f_lept2_charge       | float                    | AsDtype('>f4')\n",
      "f_lept2_pfx          | float                    | AsDtype('>f4')\n",
      "f_lept2_sip          | float                    | AsDtype('>f4')\n",
      "f_lept3_pt           | float                    | AsDtype('>f4')\n",
      "f_lept3_eta          | float                    | AsDtype('>f4')\n",
      "f_lept3_phi          | float                    | AsDtype('>f4')\n",
      "f_lept3_charge       | float                    | AsDtype('>f4')\n",
      "f_lept3_pfx          | float                    | AsDtype('>f4')\n",
      "f_lept3_sip          | float                    | AsDtype('>f4')\n",
      "f_lept4_pt           | float                    | AsDtype('>f4')\n",
      "f_lept4_eta          | float                    | AsDtype('>f4')\n",
      "f_lept4_phi          | float                    | AsDtype('>f4')\n",
      "f_lept4_charge       | float                    | AsDtype('>f4')\n",
      "f_lept4_pfx          | float                    | AsDtype('>f4')\n",
      "f_lept4_sip          | float                    | AsDtype('>f4')\n",
      "f_iso_max            | float                    | AsDtype('>f4')\n",
      "f_sip_max            | float                    | AsDtype('>f4')\n",
      "f_Z1mass             | float                    | AsDtype('>f4')\n",
      "f_Z2mass             | float                    | AsDtype('>f4')\n",
      "f_angle_costhetastar | float                    | AsDtype('>f4')\n",
      "f_angle_costheta1    | float                    | AsDtype('>f4')\n",
      "f_angle_costheta2    | float                    | AsDtype('>f4')\n",
      "f_angle_phi          | float                    | AsDtype('>f4')\n",
      "f_angle_phistar1     | float                    | AsDtype('>f4')\n",
      "f_pt4l               | float                    | AsDtype('>f4')\n",
      "f_eta4l              | float                    | AsDtype('>f4')\n",
      "f_mass4l             | float                    | AsDtype('>f4')\n",
      "f_mass4lErr          | float                    | AsDtype('>f4')\n",
      "f_njets_pass         | float                    | AsDtype('>f4')\n",
      "f_deltajj            | float                    | AsDtype('>f4')\n",
      "f_massjj             | float                    | AsDtype('>f4')\n",
      "f_D_jet              | float                    | AsDtype('>f4')\n",
      "f_jet1_pt            | float                    | AsDtype('>f4')\n",
      "f_jet1_eta           | float                    | AsDtype('>f4')\n",
      "f_jet1_phi           | float                    | AsDtype('>f4')\n",
      "f_jet1_e             | float                    | AsDtype('>f4')\n",
      "f_jet2_pt            | float                    | AsDtype('>f4')\n",
      "f_jet2_eta           | float                    | AsDtype('>f4')\n",
      "f_jet2_phi           | float                    | AsDtype('>f4')\n",
      "f_jet2_e             | float                    | AsDtype('>f4')\n",
      "f_D_bkg_kin          | float                    | AsDtype('>f4')\n",
      "f_D_bkg              | float                    | AsDtype('>f4')\n",
      "f_D_gg               | float                    | AsDtype('>f4')\n",
      "f_D_g4               | float                    | AsDtype('>f4')\n",
      "f_Djet_VAJHU         | float                    | AsDtype('>f4')\n",
      "f_pfmet              | float                    | AsDtype('>f4')\n",
      "None\n"
     ]
    }
   ],
   "source": [
    "import uproot\n",
    "import numpy as np\n",
    "import h5py\n",
    "\n",
    "treename = \"HZZ4LeptonsAnalysisReduced\"\n",
    "filename = {}\n",
    "upfile = {}\n",
    "\n",
    "filename[\"bkg\"] = \"data/ntuple_4mu_bkg.root\"\n",
    "filename[\"VV\"] = \"data/ntuple_4mu_VV.root\"\n",
    "\n",
    "upfile[\"bkg\"] = uproot.open(filename[\"bkg\"])\n",
    "upfile[\"VV\"] = uproot.open(filename[\"VV\"])\n",
    "\n",
    "print(upfile[\"bkg\"][treename].show())"
   ]
  },
  {
   "cell_type": "code",
   "execution_count": null,
   "id": "b3471ca5-eb73-453d-81f1-62510c20d21e",
   "metadata": {},
   "outputs": [],
   "source": []
  }
 ],
 "metadata": {
  "kernelspec": {
   "display_name": "Python 3 (ipykernel)",
   "language": "python",
   "name": "python3"
  },
  "language_info": {
   "codemirror_mode": {
    "name": "ipython",
    "version": 3
   },
   "file_extension": ".py",
   "mimetype": "text/x-python",
   "name": "python",
   "nbconvert_exporter": "python",
   "pygments_lexer": "ipython3",
   "version": "3.8.10"
  }
 },
 "nbformat": 4,
 "nbformat_minor": 5
}
