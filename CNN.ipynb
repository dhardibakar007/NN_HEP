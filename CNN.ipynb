{
 "cells": [
  {
   "cell_type": "markdown",
   "id": "6092eef8-3407-42e4-8ecc-83cea49fa7a0",
   "metadata": {},
   "source": [
    "------------------------\n",
    "\n",
    "Downloading datasets\n",
    "\n",
    "-------------------------"
   ]
  },
  {
   "cell_type": "code",
   "execution_count": 4,
   "id": "4c6fe940-0195-4e30-a758-fdbb5123cb8c",
   "metadata": {
    "collapsed": true,
    "jupyter": {
     "outputs_hidden": true
    },
    "scrolled": true
   },
   "outputs": [
    {
     "name": "stdout",
     "output_type": "stream",
     "text": [
      "Requirement already satisfied: wget in /home/prabir/.local/lib/python3.8/site-packages (3.2)\n",
      "--2023-09-14 16:01:38--  https://zenodo.org/record/3901869/files/jet_images.h5?download=1\n",
      "Resolving zenodo.org (zenodo.org)... 188.185.124.72\n",
      "Connecting to zenodo.org (zenodo.org)|188.185.124.72|:443... connected.\n",
      "HTTP request sent, awaiting response... 200 OK\n",
      "Length: 85520350 (82M) [application/octet-stream]\n",
      "Saving to: ‘data/jet_images.h5’\n",
      "\n",
      "data/jet_images.h5   99%[==================> ]  81.55M   152KB/s    in 8m 53s  \n",
      "\n",
      "2023-09-14 16:10:33 (157 KB/s) - Connection closed at byte 85507074. Retrying.\n",
      "\n",
      "--2023-09-14 16:10:34--  (try: 2)  https://zenodo.org/record/3901869/files/jet_images.h5?download=1\n",
      "Connecting to zenodo.org (zenodo.org)|188.185.124.72|:443... connected.\n",
      "HTTP request sent, awaiting response... 206 Partial Content\n",
      "Length: 85520350 (82M), 13276 (13K) remaining [application/octet-stream]\n",
      "Saving to: ‘data/jet_images.h5’\n",
      "\n",
      "data/jet_images.h5  100%[+++++++++++++++++++>]  81.56M  --.-KB/s    in 0s      \n",
      "\n",
      "2023-09-14 16:10:36 (64.2 MB/s) - ‘data/jet_images.h5’ saved [85520350/85520350]\n",
      "\n"
     ]
    }
   ],
   "source": [
    "!pip install wget\n",
    "!mkdir -p data\n",
    "!wget -O data/jet_images.h5 \"https://zenodo.org/record/3901869/files/jet_images.h5?download=1\""
   ]
  },
  {
   "cell_type": "markdown",
   "id": "8b29b2df-7cd1-41b0-b27c-b024bce68ff6",
   "metadata": {},
   "source": [
    "-----------------------------------------------------------------------\n",
    "Loading the numpy arrays containing the 4D tensors of “jet-images” \n",
    "\n",
    "-----------------------------------------------------------------------"
   ]
  },
  {
   "cell_type": "code",
   "execution_count": 5,
   "id": "42dd3408-94a7-4a80-88bc-0ef0e1800d82",
   "metadata": {
    "collapsed": true,
    "jupyter": {
     "outputs_hidden": true
    },
    "scrolled": true
   },
   "outputs": [
    {
     "name": "stdout",
     "output_type": "stream",
     "text": [
      "Requirement already satisfied: h5py in /home/prabir/.local/lib/python3.8/site-packages (3.9.0)\n",
      "Requirement already satisfied: numpy>=1.17.3 in /home/prabir/.local/lib/python3.8/site-packages (from h5py) (1.24.3)\n"
     ]
    }
   ],
   "source": [
    "!pip install h5py"
   ]
  },
  {
   "cell_type": "code",
   "execution_count": null,
   "id": "1ca9203a-385d-4751-953c-22ccf0b44479",
   "metadata": {},
   "outputs": [],
   "source": [
    "import h5py  #h5py is HDF5 library to manage .h5 files\n",
    "\n",
    "h5f = h5py.File(\"data/jet_images.h5\", \"r\")\n",
    "\n",
    "jet_images_dict = {}\n",
    "jet_images_dict[\"QCD\"] = h5f[\"QCD\"][()]\n",
    "jet_images_dict[\"TT\"] = h5f[\"TT\"][()]\n",
    "\n",
    "h5f.close()"
   ]
  },
  {
   "cell_type": "code",
   "execution_count": 23,
   "id": "484878fd-8810-4299-827b-5f2ce6acc57f",
   "metadata": {},
   "outputs": [
    {
     "name": "stdout",
     "output_type": "stream",
     "text": [
      "(3305, 30, 30, 1)\n",
      "(1722, 30, 30, 1)\n"
     ]
    }
   ],
   "source": [
    "# 4D tensor (tensorflow backend)\n",
    "# 1st dim is jet index\n",
    "# 2nd dim is eta bin\n",
    "# 3rd dim is phi bin\n",
    "# 4th dim is pt value (or rgb values, etc.)\n",
    "print(jet_images_dict[\"QCD\"].shape)\n",
    "print(jet_images_dict[\"TT\"].shape)"
   ]
  },
  {
   "cell_type": "markdown",
   "id": "19faae83-1eed-4c8e-8d7a-903fccb2b4f8",
   "metadata": {},
   "source": [
    "----------------------------------------------------\n",
    "Plotting the average W and QCD jet-images\n",
    "\n",
    "----------------------------------------------------"
   ]
  },
  {
   "cell_type": "code",
   "execution_count": 8,
   "id": "6911262a-2b73-4c5e-8d7f-eb94b4dddaf1",
   "metadata": {},
   "outputs": [
    {
     "data": {
      "image/png": "[encoded data removed]",
      "text/plain": [
       "<Figure size 640x480 with 2 Axes>"
      ]
     },
     "metadata": {},
     "output_type": "display_data"
    }
   ],
   "source": [
    "import matplotlib.pyplot as plt\n",
    "import matplotlib as mpl\n",
    "import numpy as np\n",
    "\n",
    "%matplotlib inline\n",
    "\n",
    "# plot one W jet\n",
    "i = 7\n",
    "plt.figure(\"W\")\n",
    "plt.imshow(\n",
    "    jet_images_dict[\"TT\"][i, :, :, 0].T,\n",
    "    norm=mpl.colors.LogNorm(),\n",
    "    origin=\"lower\",\n",
    "    interpolation=\"none\",\n",
    ")\n",
    "cbar = plt.colorbar()\n",
    "cbar.set_label(\"pT\")\n",
    "plt.xlabel(\"ieta\")\n",
    "plt.ylabel(\"iphi\")\n",
    "plt.show()\n",
    "\n",
    "# plot average W jet"
   ]
  },
  {
   "cell_type": "code",
   "execution_count": 9,
   "id": "2fb3df3b-ef75-4786-ba4a-21a887859bcf",
   "metadata": {},
   "outputs": [
    {
     "data": {
      "image/png": "[encoded data removed]",
      "text/plain": [
       "<Figure size 640x480 with 2 Axes>"
      ]
     },
     "metadata": {},
     "output_type": "display_data"
    }
   ],
   "source": [
    "# plot one QCD jet\n",
    "i = 7\n",
    "plt.figure()\n",
    "plt.imshow(\n",
    "    jet_images_dict[\"QCD\"][i, :, :, 0].T,\n",
    "    norm=mpl.colors.LogNorm(),\n",
    "    origin=\"lower\",\n",
    "    interpolation=\"none\",\n",
    ")\n",
    "cbar = plt.colorbar()\n",
    "cbar.set_label(\"pT\")\n",
    "plt.xlabel(\"ieta\")\n",
    "plt.ylabel(\"iphi\")\n",
    "plt.show()\n",
    "\n",
    "# plot average QCD jet"
   ]
  },
  {
   "cell_type": "code",
   "execution_count": 10,
   "id": "9dc13247-9c7e-4783-8026-7e8066257348",
   "metadata": {
    "collapsed": true,
    "jupyter": {
     "outputs_hidden": true
    },
    "scrolled": true
   },
   "outputs": [
    {
     "name": "stdout",
     "output_type": "stream",
     "text": [
      "Requirement already satisfied: tensorflow in /home/prabir/.local/lib/python3.8/site-packages (2.13.0)\n",
      "Requirement already satisfied: typing-extensions<4.6.0,>=3.6.6 in /home/prabir/.local/lib/python3.8/site-packages (from tensorflow) (4.5.0)\n",
      "Requirement already satisfied: wrapt>=1.11.0 in /home/prabir/.local/lib/python3.8/site-packages (from tensorflow) (1.15.0)\n",
      "Requirement already satisfied: six>=1.12.0 in /usr/lib/python3/dist-packages (from tensorflow) (1.14.0)\n",
      "Requirement already satisfied: numpy<=1.24.3,>=1.22 in /home/prabir/.local/lib/python3.8/site-packages (from tensorflow) (1.24.3)\n",
      "Requirement already satisfied: astunparse>=1.6.0 in /home/prabir/.local/lib/python3.8/site-packages (from tensorflow) (1.6.3)\n",
      "Requirement already satisfied: libclang>=13.0.0 in /home/prabir/.local/lib/python3.8/site-packages (from tensorflow) (16.0.6)\n",
      "Requirement already satisfied: grpcio<2.0,>=1.24.3 in /home/prabir/.local/lib/python3.8/site-packages (from tensorflow) (1.58.0)\n",
      "Requirement already satisfied: flatbuffers>=23.1.21 in /home/prabir/.local/lib/python3.8/site-packages (from tensorflow) (23.5.26)\n",
      "Requirement already satisfied: tensorboard<2.14,>=2.13 in /home/prabir/.local/lib/python3.8/site-packages (from tensorflow) (2.13.0)\n",
      "Requirement already satisfied: termcolor>=1.1.0 in /home/prabir/.local/lib/python3.8/site-packages (from tensorflow) (2.3.0)\n",
      "Requirement already satisfied: tensorflow-estimator<2.14,>=2.13.0 in /home/prabir/.local/lib/python3.8/site-packages (from tensorflow) (2.13.0)\n",
      "Requirement already satisfied: opt-einsum>=2.3.2 in /home/prabir/.local/lib/python3.8/site-packages (from tensorflow) (3.3.0)\n",
      "Requirement already satisfied: gast<=0.4.0,>=0.2.1 in /home/prabir/.local/lib/python3.8/site-packages (from tensorflow) (0.4.0)\n",
      "Requirement already satisfied: tensorflow-io-gcs-filesystem>=0.23.1; platform_machine != \"arm64\" or platform_system != \"Darwin\" in /home/prabir/.local/lib/python3.8/site-packages (from tensorflow) (0.34.0)\n",
      "Requirement already satisfied: setuptools in /usr/lib/python3/dist-packages (from tensorflow) (45.2.0)\n",
      "Requirement already satisfied: absl-py>=1.0.0 in /home/prabir/.local/lib/python3.8/site-packages (from tensorflow) (1.4.0)\n",
      "Requirement already satisfied: protobuf!=4.21.0,!=4.21.1,!=4.21.2,!=4.21.3,!=4.21.4,!=4.21.5,<5.0.0dev,>=3.20.3 in /home/prabir/.local/lib/python3.8/site-packages (from tensorflow) (4.24.3)\n",
      "Requirement already satisfied: packaging in /usr/local/lib/python3.8/dist-packages (from tensorflow) (23.1)\n",
      "Requirement already satisfied: google-pasta>=0.1.1 in /home/prabir/.local/lib/python3.8/site-packages (from tensorflow) (0.2.0)\n",
      "Requirement already satisfied: keras<2.14,>=2.13.1 in /home/prabir/.local/lib/python3.8/site-packages (from tensorflow) (2.13.1)\n",
      "Requirement already satisfied: h5py>=2.9.0 in /home/prabir/.local/lib/python3.8/site-packages (from tensorflow) (3.9.0)\n",
      "Requirement already satisfied: wheel<1.0,>=0.23.0 in /usr/lib/python3/dist-packages (from astunparse>=1.6.0->tensorflow) (0.34.2)\n",
      "Requirement already satisfied: google-auth-oauthlib<1.1,>=0.5 in /home/prabir/.local/lib/python3.8/site-packages (from tensorboard<2.14,>=2.13->tensorflow) (1.0.0)\n",
      "Requirement already satisfied: werkzeug>=1.0.1 in /home/prabir/.local/lib/python3.8/site-packages (from tensorboard<2.14,>=2.13->tensorflow) (2.3.7)\n",
      "Requirement already satisfied: requests<3,>=2.21.0 in /usr/local/lib/python3.8/dist-packages (from tensorboard<2.14,>=2.13->tensorflow) (2.31.0)\n",
      "Requirement already satisfied: tensorboard-data-server<0.8.0,>=0.7.0 in /home/prabir/.local/lib/python3.8/site-packages (from tensorboard<2.14,>=2.13->tensorflow) (0.7.1)\n",
      "Requirement already satisfied: markdown>=2.6.8 in /home/prabir/.local/lib/python3.8/site-packages (from tensorboard<2.14,>=2.13->tensorflow) (3.4.4)\n",
      "Requirement already satisfied: google-auth<3,>=1.6.3 in /home/prabir/.local/lib/python3.8/site-packages (from tensorboard<2.14,>=2.13->tensorflow) (2.23.0)\n",
      "Requirement already satisfied: requests-oauthlib>=0.7.0 in /home/prabir/.local/lib/python3.8/site-packages (from google-auth-oauthlib<1.1,>=0.5->tensorboard<2.14,>=2.13->tensorflow) (1.3.1)\n",
      "Requirement already satisfied: MarkupSafe>=2.1.1 in /usr/local/lib/python3.8/dist-packages (from werkzeug>=1.0.1->tensorboard<2.14,>=2.13->tensorflow) (2.1.3)\n",
      "Requirement already satisfied: idna<4,>=2.5 in /usr/lib/python3/dist-packages (from requests<3,>=2.21.0->tensorboard<2.14,>=2.13->tensorflow) (2.8)\n",
      "Requirement already satisfied: charset-normalizer<4,>=2 in /usr/local/lib/python3.8/dist-packages (from requests<3,>=2.21.0->tensorboard<2.14,>=2.13->tensorflow) (3.2.0)\n",
      "Requirement already satisfied: urllib3<3,>=1.21.1 in /usr/lib/python3/dist-packages (from requests<3,>=2.21.0->tensorboard<2.14,>=2.13->tensorflow) (1.25.8)\n",
      "Requirement already satisfied: certifi>=2017.4.17 in /usr/lib/python3/dist-packages (from requests<3,>=2.21.0->tensorboard<2.14,>=2.13->tensorflow) (2019.11.28)\n",
      "Requirement already satisfied: importlib-metadata>=4.4; python_version < \"3.10\" in /usr/local/lib/python3.8/dist-packages (from markdown>=2.6.8->tensorboard<2.14,>=2.13->tensorflow) (6.8.0)\n",
      "Requirement already satisfied: rsa<5,>=3.1.4 in /home/prabir/.local/lib/python3.8/site-packages (from google-auth<3,>=1.6.3->tensorboard<2.14,>=2.13->tensorflow) (4.9)\n",
      "Requirement already satisfied: pyasn1-modules>=0.2.1 in /home/prabir/.local/lib/python3.8/site-packages (from google-auth<3,>=1.6.3->tensorboard<2.14,>=2.13->tensorflow) (0.3.0)\n",
      "Requirement already satisfied: cachetools<6.0,>=2.0.0 in /home/prabir/.local/lib/python3.8/site-packages (from google-auth<3,>=1.6.3->tensorboard<2.14,>=2.13->tensorflow) (5.3.1)\n",
      "Requirement already satisfied: oauthlib>=3.0.0 in /usr/lib/python3/dist-packages (from requests-oauthlib>=0.7.0->google-auth-oauthlib<1.1,>=0.5->tensorboard<2.14,>=2.13->tensorflow) (3.1.0)\n",
      "Requirement already satisfied: zipp>=0.5 in /usr/local/lib/python3.8/dist-packages (from importlib-metadata>=4.4; python_version < \"3.10\"->markdown>=2.6.8->tensorboard<2.14,>=2.13->tensorflow) (3.16.2)\n",
      "Requirement already satisfied: pyasn1>=0.1.3 in /home/prabir/.local/lib/python3.8/site-packages (from rsa<5,>=3.1.4->google-auth<3,>=1.6.3->tensorboard<2.14,>=2.13->tensorflow) (0.5.0)\n"
     ]
    }
   ],
   "source": [
    "!pip install tensorflow"
   ]
  },
  {
   "cell_type": "markdown",
   "id": "10f8bf0e-f3f5-4b5b-bd98-d4e422bbfb84",
   "metadata": {},
   "source": [
    "------------------------------------------------------------------------------------------------------------\n",
    "\n",
    "This is a simple 2D Convolutional NN model using regularization, batch normalization, max pooling, and a fully connected layer before the ouput which compares the performance and number of parameters when using fully connected layers instead of convolutional layers.\n",
    "\n",
    "------------------------------------------------------------------------------------------------------------"
   ]
  },
  {
   "cell_type": "code",
   "execution_count": 15,
   "id": "5fa5a225-4447-4813-9841-c82bdfc23cf6",
   "metadata": {
    "collapsed": true,
    "jupyter": {
     "outputs_hidden": true
    }
   },
   "outputs": [
    {
     "name": "stdout",
     "output_type": "stream",
     "text": [
      "Collecting scikit-learn\n",
      "  Downloading scikit_learn-1.3.0-cp38-cp38-manylinux_2_17_x86_64.manylinux2014_x86_64.whl (11.1 MB)\n",
      "\u001b[K     |████████████████████████████████| 11.1 MB 765 kB/s eta 0:00:01\n",
      "\u001b[?25hRequirement already satisfied, skipping upgrade: numpy>=1.17.3 in /home/prabir/.local/lib/python3.8/site-packages (from scikit-learn) (1.24.3)\n",
      "Collecting joblib>=1.1.1\n",
      "  Downloading joblib-1.3.2-py3-none-any.whl (302 kB)\n",
      "\u001b[K     |████████████████████████████████| 302 kB 271 kB/s eta 0:00:01\n",
      "\u001b[?25hCollecting threadpoolctl>=2.0.0\n",
      "  Downloading threadpoolctl-3.2.0-py3-none-any.whl (15 kB)\n",
      "Requirement already satisfied, skipping upgrade: scipy>=1.5.0 in /usr/local/lib/python3.8/dist-packages (from scikit-learn) (1.10.1)\n",
      "Installing collected packages: joblib, threadpoolctl, scikit-learn\n",
      "Successfully installed joblib-1.3.2 scikit-learn-1.3.0 threadpoolctl-3.2.0\n"
     ]
    }
   ],
   "source": [
    "!pip3 install -U scikit-learn"
   ]
  },
  {
   "cell_type": "code",
   "execution_count": 17,
   "id": "49d53976-bfd4-4d5e-9b72-e988cd400987",
   "metadata": {
    "collapsed": true,
    "jupyter": {
     "outputs_hidden": true
    }
   },
   "outputs": [
    {
     "name": "stdout",
     "output_type": "stream",
     "text": [
      "Name: scikit-learn\n",
      "Version: 1.3.0\n",
      "Summary: A set of python modules for machine learning and data mining\n",
      "Home-page: http://scikit-learn.org\n",
      "Author: None\n",
      "Author-email: None\n",
      "License: new BSD\n",
      "Location: /home/prabir/.local/lib/python3.8/site-packages\n",
      "Requires: joblib, scipy, threadpoolctl, numpy\n",
      "Required-by: \n",
      "absl-py==1.4.0\n",
      "anyio==4.0.0\n",
      "apturl==0.5.2\n",
      "argon2-cffi==23.1.0\n",
      "argon2-cffi-bindings==21.2.0\n",
      "asttokens==2.4.0\n",
      "astunparse==1.6.3\n",
      "async-lru==2.0.4\n",
      "attrs==23.1.0\n",
      "Babel==2.12.1\n",
      "backcall==0.2.0\n",
      "bcrypt==3.1.7\n",
      "beautifulsoup4==4.12.2\n",
      "bleach==6.0.0\n",
      "blinker==1.4\n",
      "Brlapi==0.7.0\n",
      "cachetools==5.3.1\n",
      "certifi==2019.11.28\n",
      "cffi==1.15.1\n",
      "chardet==3.0.4\n",
      "charset-normalizer==3.2.0\n",
      "Click==7.0\n",
      "cmake==3.27.4.1\n",
      "colorama==0.4.3\n",
      "comm==0.1.4\n",
      "command-not-found==0.3\n",
      "contourpy==1.1.0\n",
      "cryptography==2.8\n",
      "cupshelpers==1.0\n",
      "cycler==0.11.0\n",
      "dbus-python==1.2.16\n",
      "debugpy==1.8.0\n",
      "decorator==5.1.1\n",
      "defer==1.0.6\n",
      "defusedxml==0.7.1\n",
      "distro==1.4.0\n",
      "distro-info===0.23ubuntu1\n",
      "duplicity==0.8.12.0\n",
      "entrypoints==0.3\n",
      "exceptiongroup==1.1.3\n",
      "executing==1.2.0\n",
      "fasteners==0.14.1\n",
      "fastjsonschema==2.18.0\n",
      "filelock==3.12.4\n",
      "flatbuffers==23.5.26\n",
      "fonttools==4.42.1\n",
      "future==0.18.2\n",
      "gast==0.4.0\n",
      "google-auth==2.23.0\n",
      "google-auth-oauthlib==1.0.0\n",
      "google-pasta==0.2.0\n",
      "grpcio==1.58.0\n",
      "h5py==3.9.0\n",
      "httplib2==0.14.0\n",
      "idna==2.8\n",
      "importlib-metadata==6.8.0\n",
      "importlib-resources==6.0.1\n",
      "ipykernel==6.25.2\n",
      "ipython==8.12.2\n",
      "jedi==0.19.0\n",
      "Jinja2==3.1.2\n",
      "joblib==1.3.2\n",
      "json5==0.9.14\n",
      "jsonschema==4.19.0\n",
      "jsonschema-specifications==2023.7.1\n",
      "jupyter-client==8.3.1\n",
      "jupyter-core==5.3.1\n",
      "jupyter-events==0.7.0\n",
      "jupyter-lsp==2.2.0\n",
      "jupyter-server==2.7.3\n",
      "jupyter-server-terminals==0.4.4\n",
      "jupyterlab==4.0.5\n",
      "jupyterlab-pygments==0.2.2\n",
      "jupyterlab-server==2.25.0\n",
      "keras==2.13.1\n",
      "keyring==18.0.1\n",
      "kiwisolver==1.4.5\n",
      "language-selector==0.1\n",
      "launchpadlib==1.10.13\n",
      "lazr.restfulclient==0.14.2\n",
      "lazr.uri==1.0.3\n",
      "libclang==16.0.6\n",
      "lit==16.0.6\n",
      "lockfile==0.12.2\n",
      "louis==3.12.0\n",
      "macaroonbakery==1.3.1\n",
      "Mako==1.1.0\n",
      "Markdown==3.4.4\n",
      "MarkupSafe==2.1.3\n",
      "matplotlib==3.7.3\n",
      "matplotlib-inline==0.1.6\n",
      "mistune==3.0.1\n",
      "monotonic==1.5\n",
      "mpmath==1.3.0\n",
      "nbclient==0.8.0\n",
      "nbconvert==7.8.0\n",
      "nbformat==5.9.2\n",
      "nest-asyncio==1.5.7\n",
      "netifaces==0.10.4\n",
      "networkx==3.1\n",
      "notebook-shim==0.2.3\n",
      "numpy==1.24.3\n",
      "nvidia-cublas-cu11==11.10.3.66\n",
      "nvidia-cuda-cupti-cu11==11.7.101\n",
      "nvidia-cuda-nvrtc-cu11==11.7.99\n",
      "nvidia-cuda-runtime-cu11==11.7.99\n",
      "nvidia-cudnn-cu11==8.5.0.96\n",
      "nvidia-cufft-cu11==10.9.0.58\n",
      "nvidia-curand-cu11==10.2.10.91\n",
      "nvidia-cusolver-cu11==11.4.0.1\n",
      "nvidia-cusparse-cu11==11.7.4.91\n",
      "nvidia-nccl-cu11==2.14.3\n",
      "nvidia-nvtx-cu11==11.7.91\n",
      "oauthlib==3.1.0\n",
      "olefile==0.46\n",
      "opt-einsum==3.3.0\n",
      "overrides==7.4.0\n",
      "packaging==23.1\n",
      "pandocfilters==1.5.0\n",
      "paramiko==2.6.0\n",
      "parso==0.8.3\n",
      "pexpect==4.6.0\n",
      "pickleshare==0.7.5\n",
      "Pillow==7.0.0\n",
      "pkgutil-resolve-name==1.3.10\n",
      "platformdirs==3.10.0\n",
      "prometheus-client==0.17.1\n",
      "prompt-toolkit==3.0.39\n",
      "protobuf==4.24.3\n",
      "psutil==5.9.5\n",
      "ptyprocess==0.7.0\n",
      "pure-eval==0.2.2\n",
      "pyasn1==0.5.0\n",
      "pyasn1-modules==0.3.0\n",
      "pycairo==1.16.2\n",
      "pycparser==2.21\n",
      "pycups==1.9.73\n",
      "Pygments==2.16.1\n",
      "PyGObject==3.36.0\n",
      "PyJWT==1.7.1\n",
      "pymacaroons==0.13.0\n",
      "PyNaCl==1.3.0\n",
      "pyparsing==3.1.1\n",
      "pyRFC3339==1.1\n",
      "python-apt==2.0.1+ubuntu0.20.4.1\n",
      "python-dateutil==2.8.2\n",
      "python-debian===0.1.36ubuntu1\n",
      "python-json-logger==2.0.7\n",
      "pytz==2019.3\n",
      "pyxdg==0.26\n",
      "PyYAML==5.3.1\n",
      "pyzmq==25.1.1\n",
      "referencing==0.30.2\n",
      "reportlab==3.5.34\n",
      "requests==2.31.0\n",
      "requests-oauthlib==1.3.1\n",
      "requests-unixsocket==0.2.0\n",
      "rfc3339-validator==0.1.4\n",
      "rfc3986-validator==0.1.1\n",
      "rpds-py==0.10.2\n",
      "rsa==4.9\n",
      "scikit-learn==1.3.0\n",
      "scipy==1.10.1\n",
      "SecretStorage==2.3.1\n",
      "Send2Trash==1.8.2\n",
      "simplejson==3.16.0\n",
      "six==1.14.0\n",
      "sklearn==0.0.post9\n",
      "sniffio==1.3.0\n",
      "soupsieve==2.5\n",
      "stack-data==0.6.2\n",
      "sympy==1.12\n",
      "systemd-python==234\n",
      "tensorboard==2.13.0\n",
      "tensorboard-data-server==0.7.1\n",
      "tensorflow==2.13.0\n",
      "tensorflow-estimator==2.13.0\n",
      "tensorflow-io-gcs-filesystem==0.34.0\n",
      "termcolor==2.3.0\n",
      "terminado==0.17.1\n",
      "threadpoolctl==3.2.0\n",
      "tinycss2==1.2.1\n",
      "tomli==2.0.1\n",
      "torch==2.0.1\n",
      "tornado==6.3.3\n",
      "traitlets==5.9.0\n",
      "triton==2.0.0\n",
      "typing-extensions==4.5.0\n",
      "ubuntu-advantage-tools==8001\n",
      "ubuntu-drivers-common==0.0.0\n",
      "ufw==0.36\n",
      "unattended-upgrades==0.1\n",
      "urllib3==1.25.8\n",
      "usb-creator==0.3.7\n",
      "wadllib==1.3.3\n",
      "wcwidth==0.2.6\n",
      "webencodings==0.5.1\n",
      "websocket-client==1.6.3\n",
      "werkzeug==2.3.7\n",
      "wget==3.2\n",
      "wrapt==1.15.0\n",
      "xkit==0.0.0\n",
      "zipp==3.16.2\n"
     ]
    }
   ],
   "source": [
    "!pip show scikit-learn\n",
    "!pip freeze"
   ]
  },
  {
   "cell_type": "code",
   "execution_count": 12,
   "id": "0fa5df8d-c764-4f5c-bb53-bfc553131684",
   "metadata": {
    "jupyter": {
     "source_hidden": true
    }
   },
   "outputs": [
    {
     "name": "stdout",
     "output_type": "stream",
     "text": [
      "Requirement already satisfied: sklearn in /home/prabir/.local/lib/python3.8/site-packages (0.0.post9)\n"
     ]
    }
   ],
   "source": [
    "!pip install sklearn\n",
    "import numpy as np"
   ]
  },
  {
   "cell_type": "code",
   "execution_count": 19,
   "id": "dd8be6c0-bb7c-4a13-8a28-6eac0d3cd216",
   "metadata": {},
   "outputs": [
    {
     "name": "stdout",
     "output_type": "stream",
     "text": [
      "Model: \"model_1\"\n",
      "_________________________________________________________________\n",
      " Layer (type)                Output Shape              Param #   \n",
      "=================================================================\n",
      " input (InputLayer)          [(None, 30, 30, 1)]       0         \n",
      "                                                                 \n",
      " conv2d_1 (Conv2D)           (None, 30, 30, 8)         80        \n",
      "                                                                 \n",
      " batchnorm_1 (BatchNormaliz  (None, 30, 30, 8)         32        \n",
      " ation)                                                          \n",
      "                                                                 \n",
      " maxpool2d_1 (MaxPooling2D)  (None, 15, 15, 8)         0         \n",
      "                                                                 \n",
      " flatten (Flatten)           (None, 1800)              0         \n",
      "                                                                 \n",
      " dense (Dense)               (None, 64)                115264    \n",
      "                                                                 \n",
      " output (Dense)              (None, 1)                 65        \n",
      "                                                                 \n",
      "=================================================================\n",
      "Total params: 115441 (450.94 KB)\n",
      "Trainable params: 115425 (450.88 KB)\n",
      "Non-trainable params: 16 (64.00 Byte)\n",
      "_________________________________________________________________\n"
     ]
    }
   ],
   "source": [
    "import tensorflow.keras.backend as K\n",
    "from tensorflow.keras.models import Model\n",
    "from tensorflow.keras.layers import (\n",
    "    Input,\n",
    "    Conv2D,\n",
    "    MaxPool2D,\n",
    "    Flatten,\n",
    "    Dropout,\n",
    "    Dense,\n",
    "    BatchNormalization,\n",
    "    Concatenate,\n",
    ")\n",
    "from tensorflow.keras.regularizers import l1, l2\n",
    "\n",
    "nx = 30\n",
    "ny = 30\n",
    "inputs = Input(shape=(nx, ny, 1), name=\"input\")\n",
    "x = Conv2D(\n",
    "    filters=8,\n",
    "    kernel_size=(3, 3),\n",
    "    strides=(1, 1),\n",
    "    padding=\"same\",\n",
    "    activation=\"relu\",\n",
    "    name=\"conv2d_1\",\n",
    "    kernel_regularizer=l2(0.01),\n",
    ")(inputs)\n",
    "x = BatchNormalization(momentum=0.6, name=\"batchnorm_1\")(x)\n",
    "x = MaxPool2D(pool_size=(2, 2), name=\"maxpool2d_1\")(x)\n",
    "x = Flatten(name=\"flatten\")(x)\n",
    "x = Dense(64, activation=\"relu\", name=\"dense\")(x)\n",
    "outputs = Dense(1, activation=\"sigmoid\", name=\"output\")(x)\n",
    "model = Model(inputs=inputs, outputs=outputs)\n",
    "model.compile(optimizer=\"adam\", loss=\"binary_crossentropy\", metrics=[\"accuracy\"])\n",
    "model.summary()"
   ]
  },
  {
   "cell_type": "markdown",
   "id": "dc1ab1aa-ddc7-4bb9-b9d3-e7a82d94628b",
   "metadata": {},
   "source": [
    "---------------------------------       \n",
    "Dividing the data into testing and training dataset  \n",
    "\n",
    "-------------------------------"
   ]
  },
  {
   "cell_type": "code",
   "execution_count": 20,
   "id": "f985d423-5cb6-4447-8ce1-73e51c85b67b",
   "metadata": {},
   "outputs": [
    {
     "name": "stdout",
     "output_type": "stream",
     "text": [
      "number of W jets for training/validation: 1384\n",
      "number of QCD jets for training/validation: 2637\n",
      "number of W jets for testing: 338\n",
      "number of QCD jets for testing: 668\n"
     ]
    }
   ],
   "source": [
    "jet_images = np.concatenate([jet_images_dict[\"TT\"], jet_images_dict[\"QCD\"]])\n",
    "jet_labels = np.concatenate(\n",
    "    [np.ones(len(jet_images_dict[\"TT\"])), np.zeros(len(jet_images_dict[\"QCD\"]))]\n",
    ")\n",
    "\n",
    "X = jet_images\n",
    "Y = jet_labels\n",
    "\n",
    "from sklearn.model_selection import train_test_split\n",
    "\n",
    "X_train_val, X_test, Y_train_val, Y_test = train_test_split(X, Y, test_size=0.2, random_state=7)\n",
    "\n",
    "print(\"number of W jets for training/validation: %i\" % np.sum(Y_train_val == 1))\n",
    "print(\"number of QCD jets for training/validation: %i\" % np.sum(Y_train_val == 0))\n",
    "\n",
    "print(\"number of W jets for testing: %i\" % np.sum(Y_test == 1))\n",
    "print(\"number of QCD jets for testing: %i\" % np.sum(Y_test == 0))\n",
    "\n",
    "# early stopping callback\n",
    "from tensorflow.keras.callbacks import EarlyStopping\n",
    "\n",
    "early_stopping = EarlyStopping(monitor=\"val_loss\", patience=10)\n",
    "\n",
    "# model checkpoint callback\n",
    "# this saves our model architecture + parameters into conv2d_model.h5\n",
    "from tensorflow.keras.callbacks import ModelCheckpoint\n",
    "\n",
    "model_checkpoint = ModelCheckpoint(\n",
    "    \"conv2d_model.h5\",\n",
    "    monitor=\"val_loss\",\n",
    "    verbose=0,\n",
    "    save_best_only=True,\n",
    "    save_weights_only=False,\n",
    "    mode=\"auto\",\n",
    "    save_freq=\"epoch\",\n",
    ")"
   ]
  },
  {
   "cell_type": "markdown",
   "id": "3c0d7c87-8e17-4bb8-a9df-0b80d82b6e15",
   "metadata": {},
   "source": [
    "--------------------------------------------------        \n",
    "Run training   \n",
    "\n",
    "--------------------------------------------------------------------"
   ]
  },
  {
   "cell_type": "code",
   "execution_count": 24,
   "id": "864ed24f-6b8b-4dbb-981f-dfd5654fdefc",
   "metadata": {},
   "outputs": [
    {
     "name": "stdout",
     "output_type": "stream",
     "text": [
      "Epoch 1/100\n",
      "3/3 [==============================] - 1s 180ms/step - loss: 0.1691 - accuracy: 0.9406 - val_loss: 0.3073 - val_accuracy: 0.8877\n",
      "Epoch 2/100\n",
      "3/3 [==============================] - 0s 164ms/step - loss: 0.1675 - accuracy: 0.9396 - val_loss: 0.3069 - val_accuracy: 0.8857\n",
      "Epoch 3/100\n",
      "3/3 [==============================] - 0s 171ms/step - loss: 0.1656 - accuracy: 0.9426 - val_loss: 0.3062 - val_accuracy: 0.8887\n",
      "Epoch 4/100\n",
      "3/3 [==============================] - 1s 176ms/step - loss: 0.1646 - accuracy: 0.9446 - val_loss: 0.3074 - val_accuracy: 0.8887\n",
      "Epoch 5/100\n",
      "3/3 [==============================] - 0s 169ms/step - loss: 0.1621 - accuracy: 0.9430 - val_loss: 0.3086 - val_accuracy: 0.8877\n",
      "Epoch 6/100\n",
      "3/3 [==============================] - 0s 173ms/step - loss: 0.1609 - accuracy: 0.9459 - val_loss: 0.3089 - val_accuracy: 0.8847\n",
      "Epoch 7/100\n",
      "3/3 [==============================] - 0s 166ms/step - loss: 0.1588 - accuracy: 0.9459 - val_loss: 0.3085 - val_accuracy: 0.8887\n",
      "Epoch 8/100\n",
      "3/3 [==============================] - 1s 194ms/step - loss: 0.1565 - accuracy: 0.9473 - val_loss: 0.3091 - val_accuracy: 0.8877\n",
      "Epoch 9/100\n",
      "3/3 [==============================] - 1s 180ms/step - loss: 0.1548 - accuracy: 0.9499 - val_loss: 0.3103 - val_accuracy: 0.8907\n",
      "Epoch 10/100\n",
      "3/3 [==============================] - 1s 195ms/step - loss: 0.1535 - accuracy: 0.9476 - val_loss: 0.3099 - val_accuracy: 0.8907\n",
      "Epoch 11/100\n",
      "3/3 [==============================] - 0s 170ms/step - loss: 0.1516 - accuracy: 0.9506 - val_loss: 0.3100 - val_accuracy: 0.8907\n",
      "Epoch 12/100\n",
      "3/3 [==============================] - 1s 179ms/step - loss: 0.1507 - accuracy: 0.9473 - val_loss: 0.3107 - val_accuracy: 0.8907\n",
      "Epoch 13/100\n",
      "3/3 [==============================] - 1s 170ms/step - loss: 0.1489 - accuracy: 0.9506 - val_loss: 0.3108 - val_accuracy: 0.8897\n"
     ]
    }
   ],
   "source": [
    "# Train classifier\n",
    "history = model.fit(\n",
    "    X_train_val,\n",
    "    Y_train_val,\n",
    "    epochs=100,\n",
    "    batch_size=1024,\n",
    "    verbose=1,\n",
    "    callbacks=[early_stopping, model_checkpoint],\n",
    "    validation_split=0.25,\n",
    ")"
   ]
  },
  {
   "cell_type": "markdown",
   "id": "acaf3b1b-c3f3-4c89-a592-e3d16f8c050c",
   "metadata": {},
   "source": [
    "---------------------------------------\n",
    "Ploting the history of the training and the performance in a ROC curve\n",
    "\n",
    "-----------------------------"
   ]
  },
  {
   "cell_type": "code",
   "execution_count": 22,
   "id": "503abd3b-2e1f-4683-8e1c-b1bf7fd7c67f",
   "metadata": {},
   "outputs": [
    {
     "name": "stdout",
     "output_type": "stream",
     "text": [
      "32/32 [==============================] - 0s 3ms/step\n"
     ]
    },
    {
     "data": {
      "image/png": "[encoded data removed]",
      "text/plain": [
       "<Figure size 1500x1000 with 3 Axes>"
      ]
     },
     "metadata": {},
     "output_type": "display_data"
    }
   ],
   "source": [
    "import matplotlib.pyplot as plt\n",
    "\n",
    "%matplotlib inline\n",
    "# plot loss vs epoch\n",
    "plt.figure(figsize=(15, 10))\n",
    "ax = plt.subplot(2, 2, 1)\n",
    "ax.plot(history.history[\"loss\"], label=\"loss\")\n",
    "ax.plot(history.history[\"val_loss\"], label=\"val_loss\")\n",
    "ax.legend(loc=\"upper right\")\n",
    "ax.set_xlabel(\"epoch\")\n",
    "ax.set_ylabel(\"loss\")\n",
    "\n",
    "# plot accuracy vs epoch\n",
    "ax = plt.subplot(2, 2, 2)\n",
    "ax.plot(history.history[\"accuracy\"], label=\"acc\")\n",
    "ax.plot(history.history[\"val_accuracy\"], label=\"val_acc\")\n",
    "ax.legend(loc=\"upper left\")\n",
    "ax.set_xlabel(\"epoch\")\n",
    "ax.set_ylabel(\"acc\")\n",
    "\n",
    "# Plot ROC\n",
    "Y_predict = model.predict(X_test)\n",
    "from sklearn.metrics import roc_curve, auc\n",
    "\n",
    "fpr, tpr, thresholds = roc_curve(Y_test, Y_predict)\n",
    "roc_auc = auc(fpr, tpr)\n",
    "ax = plt.subplot(2, 2, 3)\n",
    "ax.plot(fpr, tpr, lw=2, color=\"cyan\", label=\"auc = %.3f\" % (roc_auc))\n",
    "ax.plot([0, 1], [0, 1], linestyle=\"--\", lw=2, color=\"k\", label=\"random chance\")\n",
    "ax.set_xlim([0, 1.0])\n",
    "ax.set_ylim([0, 1.0])\n",
    "ax.set_xlabel(\"false positive rate\")\n",
    "ax.set_ylabel(\"true positive rate\")\n",
    "ax.set_title(\"receiver operating curve\")\n",
    "ax.legend(loc=\"lower right\")\n",
    "plt.show()"
   ]
  },
  {
   "cell_type": "code",
   "execution_count": null,
   "id": "26f80bcb-a42d-4f23-b699-e0cf69b75def",
   "metadata": {},
   "outputs": [],
   "source": []
  }
 ],
 "metadata": {
  "kernelspec": {
   "display_name": "Python 3 (ipykernel)",
   "language": "python",
   "name": "python3"
  },
  "language_info": {
   "codemirror_mode": {
    "name": "ipython",
    "version": 3
   },
   "file_extension": ".py",
   "mimetype": "text/x-python",
   "name": "python",
   "nbconvert_exporter": "python",
   "pygments_lexer": "ipython3",
   "version": "3.8.10"
  }
 },
 "nbformat": 4,
 "nbformat_minor": 5
}
