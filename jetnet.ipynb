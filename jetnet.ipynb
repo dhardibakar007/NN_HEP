{
 "cells": [
  {
   "cell_type": "code",
   "execution_count": 3,
   "id": "bc7f3c99-a037-4ea4-a38b-e64373e3c183",
   "metadata": {},
   "outputs": [
    {
     "name": "stdout",
     "output_type": "stream",
     "text": [
      "/usr/bin/pip:6: DeprecationWarning: pkg_resources is deprecated as an API. See https://setuptools.pypa.io/en/latest/pkg_resources.html\n",
      "  from pkg_resources import load_entry_point\n",
      "Requirement already satisfied: jetnet in /usr/local/lib/python3.8/dist-packages (0.2.3.post3)\n",
      "Requirement already satisfied: numpy>=1.21.0 in /home/prabir/.local/lib/python3.8/site-packages (from jetnet) (1.24.3)\n",
      "Requirement already satisfied: torch>=1.8.0 in /usr/local/lib/python3.8/dist-packages (from jetnet) (2.0.1)\n",
      "Requirement already satisfied: energyflow>=1.3.0 in /usr/local/lib/python3.8/dist-packages (from jetnet) (1.3.2)\n",
      "Requirement already satisfied: scipy>=1.6.2 in /usr/local/lib/python3.8/dist-packages (from jetnet) (1.10.1)\n",
      "Requirement already satisfied: awkward>=1.4.0 in /usr/local/lib/python3.8/dist-packages (from jetnet) (2.4.2)\n",
      "Requirement already satisfied: coffea>=0.7.0 in /usr/local/lib/python3.8/dist-packages (from jetnet) (0.7.21)\n",
      "Requirement already satisfied: h5py>=3.0.0 in /home/prabir/.local/lib/python3.8/site-packages (from jetnet) (3.9.0)\n",
      "Requirement already satisfied: pandas in /usr/local/lib/python3.8/dist-packages (from jetnet) (2.0.3)\n",
      "Requirement already satisfied: tables in /usr/local/lib/python3.8/dist-packages (from jetnet) (3.8.0)\n",
      "Requirement already satisfied: requests in /usr/local/lib/python3.8/dist-packages (from jetnet) (2.31.0)\n",
      "Requirement already satisfied: tqdm in /usr/local/lib/python3.8/dist-packages (from jetnet) (4.66.1)\n",
      "Requirement already satisfied: filelock in /usr/local/lib/python3.8/dist-packages (from torch>=1.8.0->jetnet) (3.12.4)\n",
      "Requirement already satisfied: typing-extensions in /home/prabir/.local/lib/python3.8/site-packages (from torch>=1.8.0->jetnet) (4.5.0)\n",
      "Requirement already satisfied: sympy in /usr/local/lib/python3.8/dist-packages (from torch>=1.8.0->jetnet) (1.12)\n",
      "Requirement already satisfied: networkx in /usr/local/lib/python3.8/dist-packages (from torch>=1.8.0->jetnet) (3.1)\n",
      "Requirement already satisfied: jinja2 in /usr/local/lib/python3.8/dist-packages (from torch>=1.8.0->jetnet) (3.1.2)\n",
      "Requirement already satisfied: nvidia-cuda-nvrtc-cu11==11.7.99; platform_system == \"Linux\" and platform_machine == \"x86_64\" in /usr/local/lib/python3.8/dist-packages (from torch>=1.8.0->jetnet) (11.7.99)\n",
      "Requirement already satisfied: nvidia-cuda-runtime-cu11==11.7.99; platform_system == \"Linux\" and platform_machine == \"x86_64\" in /usr/local/lib/python3.8/dist-packages (from torch>=1.8.0->jetnet) (11.7.99)\n",
      "Requirement already satisfied: nvidia-cuda-cupti-cu11==11.7.101; platform_system == \"Linux\" and platform_machine == \"x86_64\" in /usr/local/lib/python3.8/dist-packages (from torch>=1.8.0->jetnet) (11.7.101)\n",
      "Requirement already satisfied: nvidia-cudnn-cu11==8.5.0.96; platform_system == \"Linux\" and platform_machine == \"x86_64\" in /usr/local/lib/python3.8/dist-packages (from torch>=1.8.0->jetnet) (8.5.0.96)\n",
      "Requirement already satisfied: nvidia-cublas-cu11==11.10.3.66; platform_system == \"Linux\" and platform_machine == \"x86_64\" in /usr/local/lib/python3.8/dist-packages (from torch>=1.8.0->jetnet) (11.10.3.66)\n",
      "Requirement already satisfied: nvidia-cufft-cu11==10.9.0.58; platform_system == \"Linux\" and platform_machine == \"x86_64\" in /usr/local/lib/python3.8/dist-packages (from torch>=1.8.0->jetnet) (10.9.0.58)\n",
      "Requirement already satisfied: nvidia-curand-cu11==10.2.10.91; platform_system == \"Linux\" and platform_machine == \"x86_64\" in /usr/local/lib/python3.8/dist-packages (from torch>=1.8.0->jetnet) (10.2.10.91)\n",
      "Requirement already satisfied: nvidia-cusolver-cu11==11.4.0.1; platform_system == \"Linux\" and platform_machine == \"x86_64\" in /usr/local/lib/python3.8/dist-packages (from torch>=1.8.0->jetnet) (11.4.0.1)\n",
      "Requirement already satisfied: nvidia-cusparse-cu11==11.7.4.91; platform_system == \"Linux\" and platform_machine == \"x86_64\" in /usr/local/lib/python3.8/dist-packages (from torch>=1.8.0->jetnet) (11.7.4.91)\n",
      "Requirement already satisfied: nvidia-nccl-cu11==2.14.3; platform_system == \"Linux\" and platform_machine == \"x86_64\" in /usr/local/lib/python3.8/dist-packages (from torch>=1.8.0->jetnet) (2.14.3)\n",
      "Requirement already satisfied: nvidia-nvtx-cu11==11.7.91; platform_system == \"Linux\" and platform_machine == \"x86_64\" in /usr/local/lib/python3.8/dist-packages (from torch>=1.8.0->jetnet) (11.7.91)\n",
      "Requirement already satisfied: triton==2.0.0; platform_system == \"Linux\" and platform_machine == \"x86_64\" in /usr/local/lib/python3.8/dist-packages (from torch>=1.8.0->jetnet) (2.0.0)\n",
      "Requirement already satisfied: six>=1.10.0 in /usr/lib/python3/dist-packages (from energyflow>=1.3.0->jetnet) (1.14.0)\n",
      "Requirement already satisfied: wasserstein>=0.3.1 in /usr/local/lib/python3.8/dist-packages (from energyflow>=1.3.0->jetnet) (1.1.0)\n",
      "Requirement already satisfied: awkward-cpp==23 in /usr/local/lib/python3.8/dist-packages (from awkward>=1.4.0->jetnet) (23)\n",
      "Requirement already satisfied: importlib-metadata>=4.13.0; python_version < \"3.12\" in /usr/local/lib/python3.8/dist-packages (from awkward>=1.4.0->jetnet) (6.8.0)\n",
      "Requirement already satisfied: packaging in /usr/local/lib/python3.8/dist-packages (from awkward>=1.4.0->jetnet) (23.1)\n",
      "Requirement already satisfied: uproot!=4.2.4,!=4.3.0,!=4.3.1,==4.*,>=4.1.6 in /usr/local/lib/python3.8/dist-packages (from coffea>=0.7.0->jetnet) (4.3.7)\n",
      "Requirement already satisfied: uproot3-methods>=0.10.0 in /usr/local/lib/python3.8/dist-packages (from coffea>=0.7.0->jetnet) (0.10.1)\n",
      "Requirement already satisfied: uproot3>=3.14.1 in /usr/local/lib/python3.8/dist-packages (from coffea>=0.7.0->jetnet) (3.14.4)\n",
      "Requirement already satisfied: correctionlib>=2.0.0 in /usr/local/lib/python3.8/dist-packages (from coffea>=0.7.0->jetnet) (2.3.3)\n",
      "Requirement already satisfied: pyarrow>=1.0.0 in /usr/local/lib/python3.8/dist-packages (from coffea>=0.7.0->jetnet) (13.0.0)\n",
      "Requirement already satisfied: fsspec in /usr/local/lib/python3.8/dist-packages (from coffea>=0.7.0->jetnet) (2023.9.0)\n",
      "Requirement already satisfied: matplotlib>=3 in /usr/local/lib/python3.8/dist-packages (from coffea>=0.7.0->jetnet) (3.7.3)\n",
      "Requirement already satisfied: lz4 in /usr/local/lib/python3.8/dist-packages (from coffea>=0.7.0->jetnet) (4.3.2)\n",
      "Requirement already satisfied: cloudpickle>=1.2.3 in /usr/local/lib/python3.8/dist-packages (from coffea>=0.7.0->jetnet) (2.2.1)\n",
      "Requirement already satisfied: toml>=0.10.2 in /usr/local/lib/python3.8/dist-packages (from coffea>=0.7.0->jetnet) (0.10.2)\n",
      "Requirement already satisfied: mplhep>=0.1.18 in /usr/local/lib/python3.8/dist-packages (from coffea>=0.7.0->jetnet) (0.3.28)\n",
      "Requirement already satisfied: hist>=2 in /usr/local/lib/python3.8/dist-packages (from coffea>=0.7.0->jetnet) (2.7.2)\n",
      "Requirement already satisfied: cachetools in /home/prabir/.local/lib/python3.8/site-packages (from coffea>=0.7.0->jetnet) (5.3.1)\n",
      "Requirement already satisfied: numba>=0.56.0; python_version > \"3.6\" in /usr/local/lib/python3.8/dist-packages (from coffea>=0.7.0->jetnet) (0.57.1)\n",
      "Requirement already satisfied: python-dateutil>=2.8.2 in /usr/local/lib/python3.8/dist-packages (from pandas->jetnet) (2.8.2)\n",
      "Requirement already satisfied: pytz>=2020.1 in /usr/local/lib/python3.8/dist-packages (from pandas->jetnet) (2023.3.post1)\n",
      "Requirement already satisfied: tzdata>=2022.1 in /usr/local/lib/python3.8/dist-packages (from pandas->jetnet) (2023.3)\n",
      "Requirement already satisfied: cython>=0.29.21 in /usr/local/lib/python3.8/dist-packages (from tables->jetnet) (3.0.2)\n",
      "Requirement already satisfied: numexpr>=2.6.2 in /usr/local/lib/python3.8/dist-packages (from tables->jetnet) (2.8.6)\n",
      "Requirement already satisfied: blosc2~=2.0.0 in /usr/local/lib/python3.8/dist-packages (from tables->jetnet) (2.0.0)\n",
      "Requirement already satisfied: py-cpuinfo in /usr/local/lib/python3.8/dist-packages (from tables->jetnet) (9.0.0)\n",
      "Requirement already satisfied: charset-normalizer<4,>=2 in /usr/local/lib/python3.8/dist-packages (from requests->jetnet) (3.2.0)\n",
      "Requirement already satisfied: idna<4,>=2.5 in /usr/lib/python3/dist-packages (from requests->jetnet) (2.8)\n",
      "Requirement already satisfied: urllib3<3,>=1.21.1 in /usr/lib/python3/dist-packages (from requests->jetnet) (1.25.8)\n",
      "Requirement already satisfied: certifi>=2017.4.17 in /usr/lib/python3/dist-packages (from requests->jetnet) (2019.11.28)\n",
      "Requirement already satisfied: mpmath>=0.19 in /usr/local/lib/python3.8/dist-packages (from sympy->torch>=1.8.0->jetnet) (1.3.0)\n",
      "Requirement already satisfied: MarkupSafe>=2.0 in /usr/local/lib/python3.8/dist-packages (from jinja2->torch>=1.8.0->jetnet) (2.1.3)\n",
      "Requirement already satisfied: setuptools in /usr/local/lib/python3.8/dist-packages (from nvidia-cuda-runtime-cu11==11.7.99; platform_system == \"Linux\" and platform_machine == \"x86_64\"->torch>=1.8.0->jetnet) (68.2.2)\n",
      "Requirement already satisfied: wheel in /usr/lib/python3/dist-packages (from nvidia-cuda-runtime-cu11==11.7.99; platform_system == \"Linux\" and platform_machine == \"x86_64\"->torch>=1.8.0->jetnet) (0.34.2)\n",
      "Requirement already satisfied: cmake in /usr/local/lib/python3.8/dist-packages (from triton==2.0.0; platform_system == \"Linux\" and platform_machine == \"x86_64\"->torch>=1.8.0->jetnet) (3.27.4.1)\n",
      "Requirement already satisfied: lit in /usr/local/lib/python3.8/dist-packages (from triton==2.0.0; platform_system == \"Linux\" and platform_machine == \"x86_64\"->torch>=1.8.0->jetnet) (16.0.6)\n",
      "Requirement already satisfied: wurlitzer>=2.0.0 in /usr/local/lib/python3.8/dist-packages (from wasserstein>=0.3.1->energyflow>=1.3.0->jetnet) (3.0.3)\n",
      "Requirement already satisfied: importlib_resources; python_version < \"3.9\" in /usr/local/lib/python3.8/dist-packages (from awkward-cpp==23->awkward>=1.4.0->jetnet) (6.0.1)\n",
      "Requirement already satisfied: zipp>=0.5 in /usr/local/lib/python3.8/dist-packages (from importlib-metadata>=4.13.0; python_version < \"3.12\"->awkward>=1.4.0->jetnet) (3.16.2)\n",
      "Requirement already satisfied: awkward0 in /usr/local/lib/python3.8/dist-packages (from uproot3-methods>=0.10.0->coffea>=0.7.0->jetnet) (0.15.5)\n",
      "Requirement already satisfied: pydantic<2,>=1.7.3 in /usr/local/lib/python3.8/dist-packages (from correctionlib>=2.0.0->coffea>=0.7.0->jetnet) (1.10.12)\n",
      "Requirement already satisfied: rich in /usr/local/lib/python3.8/dist-packages (from correctionlib>=2.0.0->coffea>=0.7.0->jetnet) (13.5.2)\n",
      "Requirement already satisfied: contourpy>=1.0.1 in /usr/local/lib/python3.8/dist-packages (from matplotlib>=3->coffea>=0.7.0->jetnet) (1.1.0)\n",
      "Requirement already satisfied: cycler>=0.10 in /usr/local/lib/python3.8/dist-packages (from matplotlib>=3->coffea>=0.7.0->jetnet) (0.11.0)\n",
      "Requirement already satisfied: fonttools>=4.22.0 in /usr/local/lib/python3.8/dist-packages (from matplotlib>=3->coffea>=0.7.0->jetnet) (4.42.1)\n",
      "Requirement already satisfied: kiwisolver>=1.0.1 in /usr/local/lib/python3.8/dist-packages (from matplotlib>=3->coffea>=0.7.0->jetnet) (1.4.5)\n",
      "Requirement already satisfied: pillow>=6.2.0 in /usr/lib/python3/dist-packages (from matplotlib>=3->coffea>=0.7.0->jetnet) (7.0.0)\n",
      "Requirement already satisfied: pyparsing>=2.3.1 in /usr/local/lib/python3.8/dist-packages (from matplotlib>=3->coffea>=0.7.0->jetnet) (3.1.1)\n",
      "Requirement already satisfied: mplhep-data in /usr/local/lib/python3.8/dist-packages (from mplhep>=0.1.18->coffea>=0.7.0->jetnet) (0.0.3)\n",
      "Requirement already satisfied: uhi>=0.2.0 in /usr/local/lib/python3.8/dist-packages (from mplhep>=0.1.18->coffea>=0.7.0->jetnet) (0.3.3)\n",
      "Requirement already satisfied: boost-histogram<1.5,>=1.3.1 in /usr/local/lib/python3.8/dist-packages (from hist>=2->coffea>=0.7.0->jetnet) (1.4.0)\n",
      "Requirement already satisfied: histoprint>=2.2.0 in /usr/local/lib/python3.8/dist-packages (from hist>=2->coffea>=0.7.0->jetnet) (2.4.0)\n",
      "Requirement already satisfied: llvmlite<0.41,>=0.40.0dev0 in /usr/local/lib/python3.8/dist-packages (from numba>=0.56.0; python_version > \"3.6\"->coffea>=0.7.0->jetnet) (0.40.1)\n",
      "Requirement already satisfied: msgpack in /usr/local/lib/python3.8/dist-packages (from blosc2~=2.0.0->tables->jetnet) (1.0.5)\n",
      "Requirement already satisfied: markdown-it-py>=2.2.0 in /usr/local/lib/python3.8/dist-packages (from rich->correctionlib>=2.0.0->coffea>=0.7.0->jetnet) (3.0.0)\n",
      "Requirement already satisfied: pygments<3.0.0,>=2.13.0 in /usr/local/lib/python3.8/dist-packages (from rich->correctionlib>=2.0.0->coffea>=0.7.0->jetnet) (2.16.1)\n",
      "Requirement already satisfied: click>=7.0.0 in /usr/lib/python3/dist-packages (from histoprint>=2.2.0->hist>=2->coffea>=0.7.0->jetnet) (7.0)\n",
      "Requirement already satisfied: mdurl~=0.1 in /usr/local/lib/python3.8/dist-packages (from markdown-it-py>=2.2.0->rich->correctionlib>=2.0.0->coffea>=0.7.0->jetnet) (0.1.2)\n"
     ]
    }
   ],
   "source": [
    "!pip install jetnet"
   ]
  },
  {
   "cell_type": "code",
   "execution_count": 5,
   "id": "6aac528a-0fce-472b-8c9d-5081c214f9f3",
   "metadata": {},
   "outputs": [
    {
     "ename": "SyntaxError",
     "evalue": "invalid syntax (3580453274.py, line 5)",
     "output_type": "error",
     "traceback": [
      "\u001b[0;36m  Cell \u001b[0;32mIn[5], line 5\u001b[0;36m\u001b[0m\n\u001b[0;31m    Particle features: ['etarel', 'phirel', 'ptrel', 'mask']\u001b[0m\n\u001b[0m             ^\u001b[0m\n\u001b[0;31mSyntaxError\u001b[0m\u001b[0;31m:\u001b[0m invalid syntax\n"
     ]
    }
   ],
   "source": [
    "from jetnet.datasets import JetNet\n",
    "\n",
    "print(f\"Particle features: {JetNet.all_particle_features}\")\n",
    "print(f\"Jet features: {JetNet.all_jet_features}\")\n",
    "Particle features: ['etarel', 'phirel', 'ptrel', 'mask']\n",
    "Jet features: ['type', 'pt', 'eta', 'mass', 'num_particles']"
   ]
  },
  {
   "cell_type": "code",
   "execution_count": null,
   "id": "c2ac37fe-1364-4ece-b614-2511ba7e6929",
   "metadata": {},
   "outputs": [],
   "source": []
  }
 ],
 "metadata": {
  "kernelspec": {
   "display_name": "Python 3 (ipykernel)",
   "language": "python",
   "name": "python3"
  },
  "language_info": {
   "codemirror_mode": {
    "name": "ipython",
    "version": 3
   },
   "file_extension": ".py",
   "mimetype": "text/x-python",
   "name": "python",
   "nbconvert_exporter": "python",
   "pygments_lexer": "ipython3",
   "version": "3.8.10"
  }
 },
 "nbformat": 4,
 "nbformat_minor": 5
}
